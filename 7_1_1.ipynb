{
  "nbformat": 4,
  "nbformat_minor": 0,
  "metadata": {
    "colab": {
      "provenance": [],
      "mount_file_id": "1r5BToVo5uvplNdmpJ9cEyNCCRCI6K8wm",
      "authorship_tag": "ABX9TyOlP4hOCmwZ81PWzbwWEKE4",
      "include_colab_link": true
    },
    "kernelspec": {
      "name": "python3",
      "display_name": "Python 3"
    },
    "language_info": {
      "name": "python"
    }
  },
  "cells": [
    {
      "cell_type": "markdown",
      "metadata": {
        "id": "view-in-github",
        "colab_type": "text"
      },
      "source": [
        "<a href=\"https://colab.research.google.com/github/DKorchagina/industrial-development-git-control-task/blob/main/7_1_1.ipynb\" target=\"_parent\"><img src=\"https://colab.research.google.com/assets/colab-badge.svg\" alt=\"Open In Colab\"/></a>"
      ]
    },
    {
      "cell_type": "markdown",
      "source": [
        "\n",
        "Корчагина Дарья, ИВТ-41БО\n",
        "\n",
        "##Задание 7.1 Выборочный коэффициент корреляции"
      ],
      "metadata": {
        "id": "4McBwDsUh-OX"
      }
    },
    {
      "cell_type": "markdown",
      "source": [
        "###Task1\n",
        "Любознательный Никодим копал картошку и заинтересовался, как связано количество колорадских жуков на кусте картофеля и количество крупных клубней\n",
        "(картофелин), которые он выкапывает из-под этого куста. Поставьте гипотезу и\n",
        "проверьте её по таблице*.\n"
      ],
      "metadata": {
        "id": "yBO2osUEiB_Z"
      }
    },
    {
      "cell_type": "code",
      "execution_count": 1,
      "metadata": {
        "colab": {
          "base_uri": "https://localhost:8080/",
          "height": 363
        },
        "id": "QOFwmqDah2Ut",
        "outputId": "fe4a512c-d8bb-4000-b01a-f91e4d51e5c6"
      },
      "outputs": [
        {
          "output_type": "execute_result",
          "data": {
            "text/plain": [
              "   bugs  potatos\n",
              "0   2.0     10.0\n",
              "1   1.0      5.0\n",
              "2   1.0      2.0\n",
              "3   5.0      6.0\n",
              "4   5.0      0.0\n",
              "5   2.0      0.0\n",
              "6   0.0      4.0\n",
              "7   1.0      3.0\n",
              "8   0.0      4.0\n",
              "9   4.0      5.0"
            ],
            "text/html": [
              "\n",
              "  <div id=\"df-6cc87256-e373-4f3b-9f48-b18ee865c932\">\n",
              "    <div class=\"colab-df-container\">\n",
              "      <div>\n",
              "<style scoped>\n",
              "    .dataframe tbody tr th:only-of-type {\n",
              "        vertical-align: middle;\n",
              "    }\n",
              "\n",
              "    .dataframe tbody tr th {\n",
              "        vertical-align: top;\n",
              "    }\n",
              "\n",
              "    .dataframe thead th {\n",
              "        text-align: right;\n",
              "    }\n",
              "</style>\n",
              "<table border=\"1\" class=\"dataframe\">\n",
              "  <thead>\n",
              "    <tr style=\"text-align: right;\">\n",
              "      <th></th>\n",
              "      <th>bugs</th>\n",
              "      <th>potatos</th>\n",
              "    </tr>\n",
              "  </thead>\n",
              "  <tbody>\n",
              "    <tr>\n",
              "      <th>0</th>\n",
              "      <td>2.0</td>\n",
              "      <td>10.0</td>\n",
              "    </tr>\n",
              "    <tr>\n",
              "      <th>1</th>\n",
              "      <td>1.0</td>\n",
              "      <td>5.0</td>\n",
              "    </tr>\n",
              "    <tr>\n",
              "      <th>2</th>\n",
              "      <td>1.0</td>\n",
              "      <td>2.0</td>\n",
              "    </tr>\n",
              "    <tr>\n",
              "      <th>3</th>\n",
              "      <td>5.0</td>\n",
              "      <td>6.0</td>\n",
              "    </tr>\n",
              "    <tr>\n",
              "      <th>4</th>\n",
              "      <td>5.0</td>\n",
              "      <td>0.0</td>\n",
              "    </tr>\n",
              "    <tr>\n",
              "      <th>5</th>\n",
              "      <td>2.0</td>\n",
              "      <td>0.0</td>\n",
              "    </tr>\n",
              "    <tr>\n",
              "      <th>6</th>\n",
              "      <td>0.0</td>\n",
              "      <td>4.0</td>\n",
              "    </tr>\n",
              "    <tr>\n",
              "      <th>7</th>\n",
              "      <td>1.0</td>\n",
              "      <td>3.0</td>\n",
              "    </tr>\n",
              "    <tr>\n",
              "      <th>8</th>\n",
              "      <td>0.0</td>\n",
              "      <td>4.0</td>\n",
              "    </tr>\n",
              "    <tr>\n",
              "      <th>9</th>\n",
              "      <td>4.0</td>\n",
              "      <td>5.0</td>\n",
              "    </tr>\n",
              "  </tbody>\n",
              "</table>\n",
              "</div>\n",
              "      <button class=\"colab-df-convert\" onclick=\"convertToInteractive('df-6cc87256-e373-4f3b-9f48-b18ee865c932')\"\n",
              "              title=\"Convert this dataframe to an interactive table.\"\n",
              "              style=\"display:none;\">\n",
              "        \n",
              "  <svg xmlns=\"http://www.w3.org/2000/svg\" height=\"24px\"viewBox=\"0 0 24 24\"\n",
              "       width=\"24px\">\n",
              "    <path d=\"M0 0h24v24H0V0z\" fill=\"none\"/>\n",
              "    <path d=\"M18.56 5.44l.94 2.06.94-2.06 2.06-.94-2.06-.94-.94-2.06-.94 2.06-2.06.94zm-11 1L8.5 8.5l.94-2.06 2.06-.94-2.06-.94L8.5 2.5l-.94 2.06-2.06.94zm10 10l.94 2.06.94-2.06 2.06-.94-2.06-.94-.94-2.06-.94 2.06-2.06.94z\"/><path d=\"M17.41 7.96l-1.37-1.37c-.4-.4-.92-.59-1.43-.59-.52 0-1.04.2-1.43.59L10.3 9.45l-7.72 7.72c-.78.78-.78 2.05 0 2.83L4 21.41c.39.39.9.59 1.41.59.51 0 1.02-.2 1.41-.59l7.78-7.78 2.81-2.81c.8-.78.8-2.07 0-2.86zM5.41 20L4 18.59l7.72-7.72 1.47 1.35L5.41 20z\"/>\n",
              "  </svg>\n",
              "      </button>\n",
              "      \n",
              "  <style>\n",
              "    .colab-df-container {\n",
              "      display:flex;\n",
              "      flex-wrap:wrap;\n",
              "      gap: 12px;\n",
              "    }\n",
              "\n",
              "    .colab-df-convert {\n",
              "      background-color: #E8F0FE;\n",
              "      border: none;\n",
              "      border-radius: 50%;\n",
              "      cursor: pointer;\n",
              "      display: none;\n",
              "      fill: #1967D2;\n",
              "      height: 32px;\n",
              "      padding: 0 0 0 0;\n",
              "      width: 32px;\n",
              "    }\n",
              "\n",
              "    .colab-df-convert:hover {\n",
              "      background-color: #E2EBFA;\n",
              "      box-shadow: 0px 1px 2px rgba(60, 64, 67, 0.3), 0px 1px 3px 1px rgba(60, 64, 67, 0.15);\n",
              "      fill: #174EA6;\n",
              "    }\n",
              "\n",
              "    [theme=dark] .colab-df-convert {\n",
              "      background-color: #3B4455;\n",
              "      fill: #D2E3FC;\n",
              "    }\n",
              "\n",
              "    [theme=dark] .colab-df-convert:hover {\n",
              "      background-color: #434B5C;\n",
              "      box-shadow: 0px 1px 3px 1px rgba(0, 0, 0, 0.15);\n",
              "      filter: drop-shadow(0px 1px 2px rgba(0, 0, 0, 0.3));\n",
              "      fill: #FFFFFF;\n",
              "    }\n",
              "  </style>\n",
              "\n",
              "      <script>\n",
              "        const buttonEl =\n",
              "          document.querySelector('#df-6cc87256-e373-4f3b-9f48-b18ee865c932 button.colab-df-convert');\n",
              "        buttonEl.style.display =\n",
              "          google.colab.kernel.accessAllowed ? 'block' : 'none';\n",
              "\n",
              "        async function convertToInteractive(key) {\n",
              "          const element = document.querySelector('#df-6cc87256-e373-4f3b-9f48-b18ee865c932');\n",
              "          const dataTable =\n",
              "            await google.colab.kernel.invokeFunction('convertToInteractive',\n",
              "                                                     [key], {});\n",
              "          if (!dataTable) return;\n",
              "\n",
              "          const docLinkHtml = 'Like what you see? Visit the ' +\n",
              "            '<a target=\"_blank\" href=https://colab.research.google.com/notebooks/data_table.ipynb>data table notebook</a>'\n",
              "            + ' to learn more about interactive tables.';\n",
              "          element.innerHTML = '';\n",
              "          dataTable['output_type'] = 'display_data';\n",
              "          await google.colab.output.renderOutput(dataTable, element);\n",
              "          const docLink = document.createElement('div');\n",
              "          docLink.innerHTML = docLinkHtml;\n",
              "          element.appendChild(docLink);\n",
              "        }\n",
              "      </script>\n",
              "    </div>\n",
              "  </div>\n",
              "  "
            ]
          },
          "metadata": {},
          "execution_count": 1
        }
      ],
      "source": [
        "import xlrd\n",
        "import pandas\n",
        "bugs, potatos = [], []\n",
        "rb = xlrd.open_workbook('/content/drive/MyDrive/Colab Notebooks/terver/Практика 7.01 - данные для анализа.xls', formatting_info=True)\n",
        "sheet = rb.sheet_by_index(0)\n",
        "for rownum in range(sheet.nrows):\n",
        "  row = sheet.row_values(rownum)\n",
        "  if (rownum != 0):\n",
        "    bugs.append(row[0])\n",
        "    potatos.append(row[1])\n",
        "df1 = pandas.DataFrame(data={'bugs': bugs, 'potatos': potatos})\n",
        "df1"
      ]
    },
    {
      "cell_type": "markdown",
      "source": [
        "Гипотеза: количество колорадских жуков на кусте картофеля и количество крупных клубней независимы\n",
        "\n",
        "H0 = {r(X, Y ) = 0}"
      ],
      "metadata": {
        "id": "ime5otLsqp-o"
      }
    },
    {
      "cell_type": "code",
      "source": [
        "av_x = sum(df1['bugs'])/df1.shape[0]\n",
        "av_y = sum(df1['potatos'])/df1.shape[0]\n",
        "av_x2 = sum(df1['bugs']**2)/df1.shape[0]\n",
        "av_y2 = sum(df1['potatos']**2)/df1.shape[0]\n",
        "av_xy = sum(df1['bugs']*df1['potatos'])/df1.shape[0]\n",
        "av_x, av_y, av_x2, av_y2, av_xy"
      ],
      "metadata": {
        "colab": {
          "base_uri": "https://localhost:8080/"
        },
        "id": "XstRszNBkKZU",
        "outputId": "51984e36-c132-487a-c983-17d61435e2b0"
      },
      "execution_count": 2,
      "outputs": [
        {
          "output_type": "execute_result",
          "data": {
            "text/plain": [
              "(2.1, 3.9, 7.7, 23.1, 8.0)"
            ]
          },
          "metadata": {},
          "execution_count": 2
        }
      ]
    },
    {
      "cell_type": "code",
      "source": [
        "import math\n",
        "r_v1 = (av_xy - av_x*av_y)/(math.sqrt(av_x2 - (av_x)**2)*math.sqrt(av_y2 - (av_y)**2))\n",
        "r_v1"
      ],
      "metadata": {
        "colab": {
          "base_uri": "https://localhost:8080/"
        },
        "id": "aKH_JNcdlDep",
        "outputId": "c088f596-efaf-4437-99a3-e5ad9a585289"
      },
      "execution_count": 3,
      "outputs": [
        {
          "output_type": "execute_result",
          "data": {
            "text/plain": [
              "-0.03729212664043498"
            ]
          },
          "metadata": {},
          "execution_count": 3
        }
      ]
    },
    {
      "cell_type": "code",
      "source": [
        "t1 = math.sqrt(df1.shape[0]-2)*r_v1/math.sqrt(1-(r_v1)**2)\n",
        "t1"
      ],
      "metadata": {
        "colab": {
          "base_uri": "https://localhost:8080/"
        },
        "id": "LztFQ4ptpLVr",
        "outputId": "eb2b643b-aae0-4159-9d8b-8e7129a6318c"
      },
      "execution_count": 4,
      "outputs": [
        {
          "output_type": "execute_result",
          "data": {
            "text/plain": [
              "-0.10555148343181263"
            ]
          },
          "metadata": {},
          "execution_count": 4
        }
      ]
    },
    {
      "cell_type": "code",
      "source": [
        "t_krit1 = 2.3060\n",
        "if abs(t1) > t_krit1:\n",
        "  print(\"Нулевая гипотеза отвергается\")\n",
        "else:\n",
        "  print(\"Нет оснований отвергнуть нулевую гипотезу\")"
      ],
      "metadata": {
        "colab": {
          "base_uri": "https://localhost:8080/"
        },
        "id": "Z-oewdnLprGw",
        "outputId": "3a6805e4-439b-49e0-fa72-19607d53dc5d"
      },
      "execution_count": 5,
      "outputs": [
        {
          "output_type": "stream",
          "name": "stdout",
          "text": [
            "Нет оснований отвергнуть нулевую гипотезу\n"
          ]
        }
      ]
    },
    {
      "cell_type": "markdown",
      "source": [
        "###Task2\n",
        "По предложенному фрагменту таблицы* соревнования десятиборцев на чемпионате мира по лёгкой атлетике 2019 года оцените зависимость между результатами\n",
        "в беге на 100 метров и в толкании ядра."
      ],
      "metadata": {
        "id": "7IgEKCY2qexY"
      }
    },
    {
      "cell_type": "code",
      "source": [
        "metr, core = [], []\n",
        "rb = xlrd.open_workbook('/content/drive/MyDrive/Colab Notebooks/terver/Практика 7.01 - данные для анализа.xls', formatting_info=True)\n",
        "sheet = rb.sheet_by_index(1)\n",
        "for rownum in range(sheet.nrows):\n",
        "  row = sheet.row_values(rownum)\n",
        "  if (rownum != 0):\n",
        "    metr.append(row[1])\n",
        "    core.append(row[2])\n",
        "df2_metr = pandas.DataFrame(data={'metr': metr})\n",
        "df2_metr.sort_values(by=['metr'], inplace=True, ignore_index=True)\n",
        "def score_rang(el):\n",
        "  rang_list = df2_metr.index[df2_metr['metr']==el].tolist()\n",
        "  if len(rang_list)==1:\n",
        "    return rang_list[0] + 1\n",
        "  else:\n",
        "    return (sum(rang_list) + 2)/len(rang_list)\n",
        "df2_metr['metr rang'] = df2_metr['metr'].apply(score_rang)\n",
        "df2_core = pandas.DataFrame(data={'core': core})\n",
        "df2_core.sort_values(by=['core'], inplace=True, ignore_index=True)\n",
        "def score_rang_core(el):\n",
        "  rang_list = df2_core.index[df2_core['core']==el].tolist()\n",
        "  if len(rang_list)==1:\n",
        "    return rang_list[0] + 1\n",
        "  else:\n",
        "    return (sum(rang_list) + 2)/len(rang_list)\n",
        "df2_core['core rang'] = df2_core['core'].apply(score_rang_core)\n",
        "df2 = df2_metr.join(df2_core, rsuffix='_right')\n",
        "df2"
      ],
      "metadata": {
        "colab": {
          "base_uri": "https://localhost:8080/",
          "height": 739
        },
        "id": "ArZa3jzJqcfo",
        "outputId": "bb2ab6fe-b21c-4621-cb13-d992953e6a58"
      },
      "execution_count": 6,
      "outputs": [
        {
          "output_type": "execute_result",
          "data": {
            "text/plain": [
              "     metr  metr rang   core  core rang\n",
              "0   10.35        1.0  12.43        1.0\n",
              "1   10.36        2.0  13.21        2.0\n",
              "2   10.50        3.0  13.76        3.0\n",
              "3   10.66        4.0  13.78        4.5\n",
              "4   10.70        5.0  13.78        4.5\n",
              "5   10.75        6.0  13.97        6.0\n",
              "6   10.76        7.5  14.30        7.0\n",
              "7   10.76        7.5  14.31        8.0\n",
              "8   10.82        9.0  14.69        9.0\n",
              "9   10.84       10.0  14.71       10.0\n",
              "10  10.88       11.0  14.97       11.0\n",
              "11  10.94       12.5  15.08       12.0\n",
              "12  10.94       12.5  15.10       13.0\n",
              "13  10.95       14.0  15.12       14.0\n",
              "14  11.02       15.0  15.13       15.0\n",
              "15  11.10       16.0  15.20       16.0\n",
              "16  11.12       17.0  15.26       17.5\n",
              "17  11.13       18.0  15.26       17.5\n",
              "18  11.16       19.0  15.33       19.0\n",
              "19  11.27       20.0  15.42       20.0\n",
              "20  11.38       21.0  16.24       21.0\n",
              "21  11.44       22.0  16.82       22.0"
            ],
            "text/html": [
              "\n",
              "  <div id=\"df-ebcb1c2f-5e23-4a8b-95db-af82d9b03dd4\">\n",
              "    <div class=\"colab-df-container\">\n",
              "      <div>\n",
              "<style scoped>\n",
              "    .dataframe tbody tr th:only-of-type {\n",
              "        vertical-align: middle;\n",
              "    }\n",
              "\n",
              "    .dataframe tbody tr th {\n",
              "        vertical-align: top;\n",
              "    }\n",
              "\n",
              "    .dataframe thead th {\n",
              "        text-align: right;\n",
              "    }\n",
              "</style>\n",
              "<table border=\"1\" class=\"dataframe\">\n",
              "  <thead>\n",
              "    <tr style=\"text-align: right;\">\n",
              "      <th></th>\n",
              "      <th>metr</th>\n",
              "      <th>metr rang</th>\n",
              "      <th>core</th>\n",
              "      <th>core rang</th>\n",
              "    </tr>\n",
              "  </thead>\n",
              "  <tbody>\n",
              "    <tr>\n",
              "      <th>0</th>\n",
              "      <td>10.35</td>\n",
              "      <td>1.0</td>\n",
              "      <td>12.43</td>\n",
              "      <td>1.0</td>\n",
              "    </tr>\n",
              "    <tr>\n",
              "      <th>1</th>\n",
              "      <td>10.36</td>\n",
              "      <td>2.0</td>\n",
              "      <td>13.21</td>\n",
              "      <td>2.0</td>\n",
              "    </tr>\n",
              "    <tr>\n",
              "      <th>2</th>\n",
              "      <td>10.50</td>\n",
              "      <td>3.0</td>\n",
              "      <td>13.76</td>\n",
              "      <td>3.0</td>\n",
              "    </tr>\n",
              "    <tr>\n",
              "      <th>3</th>\n",
              "      <td>10.66</td>\n",
              "      <td>4.0</td>\n",
              "      <td>13.78</td>\n",
              "      <td>4.5</td>\n",
              "    </tr>\n",
              "    <tr>\n",
              "      <th>4</th>\n",
              "      <td>10.70</td>\n",
              "      <td>5.0</td>\n",
              "      <td>13.78</td>\n",
              "      <td>4.5</td>\n",
              "    </tr>\n",
              "    <tr>\n",
              "      <th>5</th>\n",
              "      <td>10.75</td>\n",
              "      <td>6.0</td>\n",
              "      <td>13.97</td>\n",
              "      <td>6.0</td>\n",
              "    </tr>\n",
              "    <tr>\n",
              "      <th>6</th>\n",
              "      <td>10.76</td>\n",
              "      <td>7.5</td>\n",
              "      <td>14.30</td>\n",
              "      <td>7.0</td>\n",
              "    </tr>\n",
              "    <tr>\n",
              "      <th>7</th>\n",
              "      <td>10.76</td>\n",
              "      <td>7.5</td>\n",
              "      <td>14.31</td>\n",
              "      <td>8.0</td>\n",
              "    </tr>\n",
              "    <tr>\n",
              "      <th>8</th>\n",
              "      <td>10.82</td>\n",
              "      <td>9.0</td>\n",
              "      <td>14.69</td>\n",
              "      <td>9.0</td>\n",
              "    </tr>\n",
              "    <tr>\n",
              "      <th>9</th>\n",
              "      <td>10.84</td>\n",
              "      <td>10.0</td>\n",
              "      <td>14.71</td>\n",
              "      <td>10.0</td>\n",
              "    </tr>\n",
              "    <tr>\n",
              "      <th>10</th>\n",
              "      <td>10.88</td>\n",
              "      <td>11.0</td>\n",
              "      <td>14.97</td>\n",
              "      <td>11.0</td>\n",
              "    </tr>\n",
              "    <tr>\n",
              "      <th>11</th>\n",
              "      <td>10.94</td>\n",
              "      <td>12.5</td>\n",
              "      <td>15.08</td>\n",
              "      <td>12.0</td>\n",
              "    </tr>\n",
              "    <tr>\n",
              "      <th>12</th>\n",
              "      <td>10.94</td>\n",
              "      <td>12.5</td>\n",
              "      <td>15.10</td>\n",
              "      <td>13.0</td>\n",
              "    </tr>\n",
              "    <tr>\n",
              "      <th>13</th>\n",
              "      <td>10.95</td>\n",
              "      <td>14.0</td>\n",
              "      <td>15.12</td>\n",
              "      <td>14.0</td>\n",
              "    </tr>\n",
              "    <tr>\n",
              "      <th>14</th>\n",
              "      <td>11.02</td>\n",
              "      <td>15.0</td>\n",
              "      <td>15.13</td>\n",
              "      <td>15.0</td>\n",
              "    </tr>\n",
              "    <tr>\n",
              "      <th>15</th>\n",
              "      <td>11.10</td>\n",
              "      <td>16.0</td>\n",
              "      <td>15.20</td>\n",
              "      <td>16.0</td>\n",
              "    </tr>\n",
              "    <tr>\n",
              "      <th>16</th>\n",
              "      <td>11.12</td>\n",
              "      <td>17.0</td>\n",
              "      <td>15.26</td>\n",
              "      <td>17.5</td>\n",
              "    </tr>\n",
              "    <tr>\n",
              "      <th>17</th>\n",
              "      <td>11.13</td>\n",
              "      <td>18.0</td>\n",
              "      <td>15.26</td>\n",
              "      <td>17.5</td>\n",
              "    </tr>\n",
              "    <tr>\n",
              "      <th>18</th>\n",
              "      <td>11.16</td>\n",
              "      <td>19.0</td>\n",
              "      <td>15.33</td>\n",
              "      <td>19.0</td>\n",
              "    </tr>\n",
              "    <tr>\n",
              "      <th>19</th>\n",
              "      <td>11.27</td>\n",
              "      <td>20.0</td>\n",
              "      <td>15.42</td>\n",
              "      <td>20.0</td>\n",
              "    </tr>\n",
              "    <tr>\n",
              "      <th>20</th>\n",
              "      <td>11.38</td>\n",
              "      <td>21.0</td>\n",
              "      <td>16.24</td>\n",
              "      <td>21.0</td>\n",
              "    </tr>\n",
              "    <tr>\n",
              "      <th>21</th>\n",
              "      <td>11.44</td>\n",
              "      <td>22.0</td>\n",
              "      <td>16.82</td>\n",
              "      <td>22.0</td>\n",
              "    </tr>\n",
              "  </tbody>\n",
              "</table>\n",
              "</div>\n",
              "      <button class=\"colab-df-convert\" onclick=\"convertToInteractive('df-ebcb1c2f-5e23-4a8b-95db-af82d9b03dd4')\"\n",
              "              title=\"Convert this dataframe to an interactive table.\"\n",
              "              style=\"display:none;\">\n",
              "        \n",
              "  <svg xmlns=\"http://www.w3.org/2000/svg\" height=\"24px\"viewBox=\"0 0 24 24\"\n",
              "       width=\"24px\">\n",
              "    <path d=\"M0 0h24v24H0V0z\" fill=\"none\"/>\n",
              "    <path d=\"M18.56 5.44l.94 2.06.94-2.06 2.06-.94-2.06-.94-.94-2.06-.94 2.06-2.06.94zm-11 1L8.5 8.5l.94-2.06 2.06-.94-2.06-.94L8.5 2.5l-.94 2.06-2.06.94zm10 10l.94 2.06.94-2.06 2.06-.94-2.06-.94-.94-2.06-.94 2.06-2.06.94z\"/><path d=\"M17.41 7.96l-1.37-1.37c-.4-.4-.92-.59-1.43-.59-.52 0-1.04.2-1.43.59L10.3 9.45l-7.72 7.72c-.78.78-.78 2.05 0 2.83L4 21.41c.39.39.9.59 1.41.59.51 0 1.02-.2 1.41-.59l7.78-7.78 2.81-2.81c.8-.78.8-2.07 0-2.86zM5.41 20L4 18.59l7.72-7.72 1.47 1.35L5.41 20z\"/>\n",
              "  </svg>\n",
              "      </button>\n",
              "      \n",
              "  <style>\n",
              "    .colab-df-container {\n",
              "      display:flex;\n",
              "      flex-wrap:wrap;\n",
              "      gap: 12px;\n",
              "    }\n",
              "\n",
              "    .colab-df-convert {\n",
              "      background-color: #E8F0FE;\n",
              "      border: none;\n",
              "      border-radius: 50%;\n",
              "      cursor: pointer;\n",
              "      display: none;\n",
              "      fill: #1967D2;\n",
              "      height: 32px;\n",
              "      padding: 0 0 0 0;\n",
              "      width: 32px;\n",
              "    }\n",
              "\n",
              "    .colab-df-convert:hover {\n",
              "      background-color: #E2EBFA;\n",
              "      box-shadow: 0px 1px 2px rgba(60, 64, 67, 0.3), 0px 1px 3px 1px rgba(60, 64, 67, 0.15);\n",
              "      fill: #174EA6;\n",
              "    }\n",
              "\n",
              "    [theme=dark] .colab-df-convert {\n",
              "      background-color: #3B4455;\n",
              "      fill: #D2E3FC;\n",
              "    }\n",
              "\n",
              "    [theme=dark] .colab-df-convert:hover {\n",
              "      background-color: #434B5C;\n",
              "      box-shadow: 0px 1px 3px 1px rgba(0, 0, 0, 0.15);\n",
              "      filter: drop-shadow(0px 1px 2px rgba(0, 0, 0, 0.3));\n",
              "      fill: #FFFFFF;\n",
              "    }\n",
              "  </style>\n",
              "\n",
              "      <script>\n",
              "        const buttonEl =\n",
              "          document.querySelector('#df-ebcb1c2f-5e23-4a8b-95db-af82d9b03dd4 button.colab-df-convert');\n",
              "        buttonEl.style.display =\n",
              "          google.colab.kernel.accessAllowed ? 'block' : 'none';\n",
              "\n",
              "        async function convertToInteractive(key) {\n",
              "          const element = document.querySelector('#df-ebcb1c2f-5e23-4a8b-95db-af82d9b03dd4');\n",
              "          const dataTable =\n",
              "            await google.colab.kernel.invokeFunction('convertToInteractive',\n",
              "                                                     [key], {});\n",
              "          if (!dataTable) return;\n",
              "\n",
              "          const docLinkHtml = 'Like what you see? Visit the ' +\n",
              "            '<a target=\"_blank\" href=https://colab.research.google.com/notebooks/data_table.ipynb>data table notebook</a>'\n",
              "            + ' to learn more about interactive tables.';\n",
              "          element.innerHTML = '';\n",
              "          dataTable['output_type'] = 'display_data';\n",
              "          await google.colab.output.renderOutput(dataTable, element);\n",
              "          const docLink = document.createElement('div');\n",
              "          docLink.innerHTML = docLinkHtml;\n",
              "          element.appendChild(docLink);\n",
              "        }\n",
              "      </script>\n",
              "    </div>\n",
              "  </div>\n",
              "  "
            ]
          },
          "metadata": {},
          "execution_count": 6
        }
      ]
    },
    {
      "cell_type": "markdown",
      "source": [
        "H0 = {r(x, y ) = 0}"
      ],
      "metadata": {
        "id": "7SiiLqHHEJiA"
      }
    },
    {
      "cell_type": "code",
      "source": [
        "df2['metr rang'] - df2['core rang']"
      ],
      "metadata": {
        "colab": {
          "base_uri": "https://localhost:8080/"
        },
        "id": "jFqLnte5-HsR",
        "outputId": "306ef9f7-fab8-4081-db90-f3c993df3fd8"
      },
      "execution_count": 7,
      "outputs": [
        {
          "output_type": "execute_result",
          "data": {
            "text/plain": [
              "0     0.0\n",
              "1     0.0\n",
              "2     0.0\n",
              "3    -0.5\n",
              "4     0.5\n",
              "5     0.0\n",
              "6     0.5\n",
              "7    -0.5\n",
              "8     0.0\n",
              "9     0.0\n",
              "10    0.0\n",
              "11    0.5\n",
              "12   -0.5\n",
              "13    0.0\n",
              "14    0.0\n",
              "15    0.0\n",
              "16   -0.5\n",
              "17    0.5\n",
              "18    0.0\n",
              "19    0.0\n",
              "20    0.0\n",
              "21    0.0\n",
              "dtype: float64"
            ]
          },
          "metadata": {},
          "execution_count": 7
        }
      ]
    },
    {
      "cell_type": "code",
      "source": [
        "sum_di = sum((df2['metr rang'] - df2['core rang'])**2)\n",
        "sum_di"
      ],
      "metadata": {
        "colab": {
          "base_uri": "https://localhost:8080/"
        },
        "id": "0VDjlT3A98q3",
        "outputId": "7398e20f-3e3c-48c5-9c82-4bc8b2dec336"
      },
      "execution_count": 8,
      "outputs": [
        {
          "output_type": "execute_result",
          "data": {
            "text/plain": [
              "2.0"
            ]
          },
          "metadata": {},
          "execution_count": 8
        }
      ]
    },
    {
      "cell_type": "code",
      "source": [
        "ro_v = 1 - (6*sum_di)/(df2.shape[0]**3 - df2.shape[0])\n",
        "ro_v"
      ],
      "metadata": {
        "colab": {
          "base_uri": "https://localhost:8080/"
        },
        "id": "Bp4zHzPv-GfR",
        "outputId": "53c9e749-8fd7-4657-f1ed-604b8922f813"
      },
      "execution_count": 9,
      "outputs": [
        {
          "output_type": "execute_result",
          "data": {
            "text/plain": [
              "0.9988706945228685"
            ]
          },
          "metadata": {},
          "execution_count": 9
        }
      ]
    },
    {
      "cell_type": "code",
      "source": [
        "t2 = math.sqrt(df2.shape[0]-2)*ro_v/(math.sqrt(1-(ro_v)**2))\n",
        "t2"
      ],
      "metadata": {
        "colab": {
          "base_uri": "https://localhost:8080/"
        },
        "id": "ZGJMjjPsAOgY",
        "outputId": "7d10586c-ecc8-4b4a-b005-c3909e06b4cf"
      },
      "execution_count": 10,
      "outputs": [
        {
          "output_type": "execute_result",
          "data": {
            "text/plain": [
              "94.02128921079056"
            ]
          },
          "metadata": {},
          "execution_count": 10
        }
      ]
    },
    {
      "cell_type": "code",
      "source": [
        "t_krit2 = 2.0860 \n",
        "if abs(t2) > t_krit2:\n",
        "  print(\"Нулевая гипотеза отвергается\")\n",
        "else:\n",
        "  print(\"Нет оснований отвергнуть нулевую гипотезу\")"
      ],
      "metadata": {
        "colab": {
          "base_uri": "https://localhost:8080/"
        },
        "id": "PiCorkvxAiYm",
        "outputId": "9d6541b1-5000-462d-fe9d-7c5d27371582"
      },
      "execution_count": 11,
      "outputs": [
        {
          "output_type": "stream",
          "name": "stdout",
          "text": [
            "Нулевая гипотеза отвергается\n"
          ]
        }
      ]
    }
  ]
}