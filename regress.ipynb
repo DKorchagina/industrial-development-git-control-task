{
  "nbformat": 4,
  "nbformat_minor": 0,
  "metadata": {
    "colab": {
      "provenance": [],
      "mount_file_id": "1opEOpOzJxzI0aLI6CGOBuUlT6pp31tUR",
      "authorship_tag": "ABX9TyOdjedXCZslBXdGObZ8MlOM",
      "include_colab_link": true
    },
    "kernelspec": {
      "name": "python3",
      "display_name": "Python 3"
    },
    "language_info": {
      "name": "python"
    }
  },
  "cells": [
    {
      "cell_type": "markdown",
      "metadata": {
        "id": "view-in-github",
        "colab_type": "text"
      },
      "source": [
        "<a href=\"https://colab.research.google.com/github/DKorchagina/industrial-development-git-control-task/blob/main/regress.ipynb\" target=\"_parent\"><img src=\"https://colab.research.google.com/assets/colab-badge.svg\" alt=\"Open In Colab\"/></a>"
      ]
    },
    {
      "cell_type": "markdown",
      "source": [
        "Корчагина Дарья, ИВТ-41БО\n",
        "##Линейная регрессия. Задание\n"
      ],
      "metadata": {
        "id": "oExb5QsV9J5i"
      }
    },
    {
      "cell_type": "markdown",
      "source": [
        "###Task\n",
        "В таблице∗\n",
        "есть результаты замеров ширины (столбец A) и длины (столбец B) листовой пластины одного из видов орхидей. По результатам 20 замеров постройте\n",
        "уравнение линейной регрессионной зависимости длины листовой пластины от ширины. Проверьте значимость уравнения регрессии и отдельных коэффициентов.\n",
        "\n"
      ],
      "metadata": {
        "id": "-wAG0vRl9PrS"
      }
    },
    {
      "cell_type": "code",
      "execution_count": 15,
      "metadata": {
        "colab": {
          "base_uri": "https://localhost:8080/"
        },
        "id": "dmx5fEFn8bRy",
        "outputId": "8bc04ba5-61e4-4ae0-dd77-55278b151b40"
      },
      "outputs": [
        {
          "output_type": "execute_result",
          "data": {
            "text/plain": [
              "([3.1,\n",
              "  2.6,\n",
              "  4.5,\n",
              "  2.5,\n",
              "  4.5,\n",
              "  2.7,\n",
              "  3.9,\n",
              "  4.8,\n",
              "  4.5,\n",
              "  3.2,\n",
              "  3.3,\n",
              "  4.1,\n",
              "  3.1,\n",
              "  2.7,\n",
              "  4.2,\n",
              "  4.5,\n",
              "  3.5,\n",
              "  4.9,\n",
              "  2.9,\n",
              "  3.7],\n",
              " [4.5,\n",
              "  3.6,\n",
              "  7.0,\n",
              "  3.8,\n",
              "  6.5,\n",
              "  4.0,\n",
              "  6.1,\n",
              "  7.2,\n",
              "  6.7,\n",
              "  4.5,\n",
              "  5.1,\n",
              "  6.1,\n",
              "  4.5,\n",
              "  4.5,\n",
              "  6.2,\n",
              "  6.9,\n",
              "  5.2,\n",
              "  7.5,\n",
              "  4.3,\n",
              "  5.5])"
            ]
          },
          "metadata": {},
          "execution_count": 15
        }
      ],
      "source": [
        "import xlrd\n",
        "import openpyxl\n",
        "import time\n",
        "time.clock = time.time\n",
        "a, b = [], []\n",
        "rb = xlrd.open_workbook('/content/drive/MyDrive/Colab Notebooks/terver/Практика 8.02 - данные для самостоятельного анализа.xls', formatting_info=True)\n",
        "sheet = rb.sheet_by_index(0)\n",
        "for rownum in range(sheet.nrows):\n",
        "  row = sheet.row_values(rownum)\n",
        "  a.append(row[0])\n",
        "  b.append(row[1])\n",
        "a, b"
      ]
    },
    {
      "cell_type": "markdown",
      "source": [
        "Задача: по набору (a, b) построить уравнение линейной регрессиии y = ax + b"
      ],
      "metadata": {
        "id": "-ykPcAedBs8t"
      }
    },
    {
      "cell_type": "code",
      "source": [
        "import matplotlib.pyplot as plt\n",
        "plt.scatter(a, b)\n",
        "plt.show()"
      ],
      "metadata": {
        "colab": {
          "base_uri": "https://localhost:8080/",
          "height": 265
        },
        "id": "ohNNw5wr_Dm5",
        "outputId": "6397583a-9080-4a61-a425-185a9c059b30"
      },
      "execution_count": 17,
      "outputs": [
        {
          "output_type": "display_data",
          "data": {
            "text/plain": [
              "<Figure size 432x288 with 1 Axes>"
            ],
            "image/png": "[encoded data removed]"
          },
          "metadata": {
            "needs_background": "light"
          }
        }
      ]
    },
    {
      "cell_type": "code",
      "source": [
        "import numpy as np\n",
        "mean_a = np.mean(a)\n",
        "mean_b = np.mean(b)\n",
        "sr_otkl_a = np.std(a)\n",
        "sr_otkl_b = np.std(b)\n",
        "mean_a, mean_b, sr_otkl_a, sr_otkl_b"
      ],
      "metadata": {
        "colab": {
          "base_uri": "https://localhost:8080/"
        },
        "id": "zh1cigsrCHyL",
        "outputId": "47470336-ac57-4295-ed4e-23bbe9b820d1"
      },
      "execution_count": 18,
      "outputs": [
        {
          "output_type": "execute_result",
          "data": {
            "text/plain": [
              "(3.66, 5.485, 0.7774316690230725, 1.2080045529715524)"
            ]
          },
          "metadata": {},
          "execution_count": 18
        }
      ]
    },
    {
      "cell_type": "code",
      "source": [
        "import scipy.stats as st\n",
        "r_v = st.pearsonr(a,b)\n",
        "r_v = r_v[0]\n",
        "r_v"
      ],
      "metadata": {
        "colab": {
          "base_uri": "https://localhost:8080/"
        },
        "id": "lAFBuIOqDEO9",
        "outputId": "9ebb6002-2dcc-4aa8-9f72-79bc72fb9441"
      },
      "execution_count": 20,
      "outputs": [
        {
          "output_type": "execute_result",
          "data": {
            "text/plain": [
              "0.9880305557372465"
            ]
          },
          "metadata": {},
          "execution_count": 20
        }
      ]
    },
    {
      "cell_type": "code",
      "source": [
        "koef_a = r_v*sr_otkl_b/sr_otkl_a\n",
        "koef_b = mean_b - r_v*sr_otkl_b*mean_a/sr_otkl_a\n",
        "koef_a, koef_b"
      ],
      "metadata": {
        "colab": {
          "base_uri": "https://localhost:8080/"
        },
        "id": "vkqYX0AuDa5-",
        "outputId": "7e87192c-e52a-4814-91f3-6e7219aa77f8"
      },
      "execution_count": 21,
      "outputs": [
        {
          "output_type": "execute_result",
          "data": {
            "text/plain": [
              "(1.5352415618795496, -0.13398411647915154)"
            ]
          },
          "metadata": {},
          "execution_count": 21
        }
      ]
    },
    {
      "cell_type": "code",
      "source": [
        "print(\"Уравнение линейной регрессии: y = \" + str(koef_a) + 'x + ' + str(koef_b))"
      ],
      "metadata": {
        "colab": {
          "base_uri": "https://localhost:8080/"
        },
        "id": "pwOPZJNLET04",
        "outputId": "36a713f5-081d-4595-d13f-41969b20fb07"
      },
      "execution_count": 27,
      "outputs": [
        {
          "output_type": "stream",
          "name": "stdout",
          "text": [
            "Уравнение линейной регрессии: y = 1.5352415618795496x + -0.13398411647915154\n"
          ]
        }
      ]
    },
    {
      "cell_type": "code",
      "source": [
        "import math\n",
        "summa = 0\n",
        "for i in range(20):\n",
        "  summa += (b[i] - koef_a*a[i]-koef_b)**2\n",
        "s_ost = math.sqrt(summa/18)\n",
        "s_a = s_ost/(sr_otkl_a*math.sqrt(20))\n",
        "mean_x2 = 0\n",
        "for i in range(20):\n",
        "  mean_x2 += a[i]**2\n",
        "mean_x2 /= 20\n",
        "s_b = s_ost*mean_x2/(sr_otkl_a*math.sqrt(20))\n",
        "t_a = koef_a/s_a\n",
        "t_b = koef_b/s_b\n",
        "t_a, t_b"
      ],
      "metadata": {
        "colab": {
          "base_uri": "https://localhost:8080/"
        },
        "id": "LHWmcBkUFRJb",
        "outputId": "cefb32f3-8d14-4081-d109-1810ad39fdce"
      },
      "execution_count": 34,
      "outputs": [
        {
          "output_type": "execute_result",
          "data": {
            "text/plain": [
              "(27.174283839029794, -0.16939737235267124)"
            ]
          },
          "metadata": {},
          "execution_count": 34
        }
      ]
    },
    {
      "cell_type": "code",
      "source": [
        "t_krit = 2.1009\n",
        "if (abs(t_a)<t_krit):\n",
        "  print('Коэффициент а незначим')\n",
        "if (abs(t_b)<t_krit):\n",
        "  print('Коэффициент b незначим')"
      ],
      "metadata": {
        "colab": {
          "base_uri": "https://localhost:8080/"
        },
        "id": "zSlAXCU5GxKq",
        "outputId": "8f26e7d2-c8e5-4b0c-80c4-499a8cceae0c"
      },
      "execution_count": 35,
      "outputs": [
        {
          "output_type": "stream",
          "name": "stdout",
          "text": [
            "Коэффициент b незначим\n"
          ]
        }
      ]
    }
  ]
}