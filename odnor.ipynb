{
  "nbformat": 4,
  "nbformat_minor": 0,
  "metadata": {
    "colab": {
      "provenance": [],
      "mount_file_id": "1GaBmb46ZAyAtU4N2zFqiOD5_cb7g18qI",
      "authorship_tag": "ABX9TyPYQwE6/cGgJnmApmDLzLdo",
      "include_colab_link": true
    },
    "kernelspec": {
      "name": "python3",
      "display_name": "Python 3"
    },
    "language_info": {
      "name": "python"
    }
  },
  "cells": [
    {
      "cell_type": "markdown",
      "metadata": {
        "id": "view-in-github",
        "colab_type": "text"
      },
      "source": [
        "<a href=\"https://colab.research.google.com/github/DKorchagina/industrial-development-git-control-task/blob/main/odnor.ipynb\" target=\"_parent\"><img src=\"https://colab.research.google.com/assets/colab-badge.svg\" alt=\"Open In Colab\"/></a>"
      ]
    },
    {
      "cell_type": "markdown",
      "source": [
        "Корчагина Дарья, ИВТ-41БО\n",
        "\n",
        "##Гипотеза однородности. Задания\n"
      ],
      "metadata": {
        "id": "TR4OWy0Zwf_5"
      }
    },
    {
      "cell_type": "markdown",
      "source": [
        "###Task1\n",
        "По предложенной таблице* (частично обработанным выборкам) проверить гипотезу об однородности представленных выборок с помощью двухвыборочного\n",
        "критерия Пирсона."
      ],
      "metadata": {
        "id": "s2cSa9GDwq5-"
      }
    },
    {
      "cell_type": "code",
      "execution_count": 117,
      "metadata": {
        "colab": {
          "base_uri": "https://localhost:8080/",
          "height": 112
        },
        "id": "TsAdQGOoupaZ",
        "outputId": "ac482d03-ecb4-45ac-8697-09a424d1ae75"
      },
      "outputs": [
        {
          "output_type": "execute_result",
          "data": {
            "text/plain": [
              "    1   2   3   4   5\n",
              "0  12  42  35   9   2\n",
              "1   3  13  43  65  26"
            ],
            "text/html": [
              "\n",
              "  <div id=\"df-ecaf16d7-cedf-425d-8668-116cc0892935\">\n",
              "    <div class=\"colab-df-container\">\n",
              "      <div>\n",
              "<style scoped>\n",
              "    .dataframe tbody tr th:only-of-type {\n",
              "        vertical-align: middle;\n",
              "    }\n",
              "\n",
              "    .dataframe tbody tr th {\n",
              "        vertical-align: top;\n",
              "    }\n",
              "\n",
              "    .dataframe thead th {\n",
              "        text-align: right;\n",
              "    }\n",
              "</style>\n",
              "<table border=\"1\" class=\"dataframe\">\n",
              "  <thead>\n",
              "    <tr style=\"text-align: right;\">\n",
              "      <th></th>\n",
              "      <th>1</th>\n",
              "      <th>2</th>\n",
              "      <th>3</th>\n",
              "      <th>4</th>\n",
              "      <th>5</th>\n",
              "    </tr>\n",
              "  </thead>\n",
              "  <tbody>\n",
              "    <tr>\n",
              "      <th>0</th>\n",
              "      <td>12</td>\n",
              "      <td>42</td>\n",
              "      <td>35</td>\n",
              "      <td>9</td>\n",
              "      <td>2</td>\n",
              "    </tr>\n",
              "    <tr>\n",
              "      <th>1</th>\n",
              "      <td>3</td>\n",
              "      <td>13</td>\n",
              "      <td>43</td>\n",
              "      <td>65</td>\n",
              "      <td>26</td>\n",
              "    </tr>\n",
              "  </tbody>\n",
              "</table>\n",
              "</div>\n",
              "      <button class=\"colab-df-convert\" onclick=\"convertToInteractive('df-ecaf16d7-cedf-425d-8668-116cc0892935')\"\n",
              "              title=\"Convert this dataframe to an interactive table.\"\n",
              "              style=\"display:none;\">\n",
              "        \n",
              "  <svg xmlns=\"http://www.w3.org/2000/svg\" height=\"24px\"viewBox=\"0 0 24 24\"\n",
              "       width=\"24px\">\n",
              "    <path d=\"M0 0h24v24H0V0z\" fill=\"none\"/>\n",
              "    <path d=\"M18.56 5.44l.94 2.06.94-2.06 2.06-.94-2.06-.94-.94-2.06-.94 2.06-2.06.94zm-11 1L8.5 8.5l.94-2.06 2.06-.94-2.06-.94L8.5 2.5l-.94 2.06-2.06.94zm10 10l.94 2.06.94-2.06 2.06-.94-2.06-.94-.94-2.06-.94 2.06-2.06.94z\"/><path d=\"M17.41 7.96l-1.37-1.37c-.4-.4-.92-.59-1.43-.59-.52 0-1.04.2-1.43.59L10.3 9.45l-7.72 7.72c-.78.78-.78 2.05 0 2.83L4 21.41c.39.39.9.59 1.41.59.51 0 1.02-.2 1.41-.59l7.78-7.78 2.81-2.81c.8-.78.8-2.07 0-2.86zM5.41 20L4 18.59l7.72-7.72 1.47 1.35L5.41 20z\"/>\n",
              "  </svg>\n",
              "      </button>\n",
              "      \n",
              "  <style>\n",
              "    .colab-df-container {\n",
              "      display:flex;\n",
              "      flex-wrap:wrap;\n",
              "      gap: 12px;\n",
              "    }\n",
              "\n",
              "    .colab-df-convert {\n",
              "      background-color: #E8F0FE;\n",
              "      border: none;\n",
              "      border-radius: 50%;\n",
              "      cursor: pointer;\n",
              "      display: none;\n",
              "      fill: #1967D2;\n",
              "      height: 32px;\n",
              "      padding: 0 0 0 0;\n",
              "      width: 32px;\n",
              "    }\n",
              "\n",
              "    .colab-df-convert:hover {\n",
              "      background-color: #E2EBFA;\n",
              "      box-shadow: 0px 1px 2px rgba(60, 64, 67, 0.3), 0px 1px 3px 1px rgba(60, 64, 67, 0.15);\n",
              "      fill: #174EA6;\n",
              "    }\n",
              "\n",
              "    [theme=dark] .colab-df-convert {\n",
              "      background-color: #3B4455;\n",
              "      fill: #D2E3FC;\n",
              "    }\n",
              "\n",
              "    [theme=dark] .colab-df-convert:hover {\n",
              "      background-color: #434B5C;\n",
              "      box-shadow: 0px 1px 3px 1px rgba(0, 0, 0, 0.15);\n",
              "      filter: drop-shadow(0px 1px 2px rgba(0, 0, 0, 0.3));\n",
              "      fill: #FFFFFF;\n",
              "    }\n",
              "  </style>\n",
              "\n",
              "      <script>\n",
              "        const buttonEl =\n",
              "          document.querySelector('#df-ecaf16d7-cedf-425d-8668-116cc0892935 button.colab-df-convert');\n",
              "        buttonEl.style.display =\n",
              "          google.colab.kernel.accessAllowed ? 'block' : 'none';\n",
              "\n",
              "        async function convertToInteractive(key) {\n",
              "          const element = document.querySelector('#df-ecaf16d7-cedf-425d-8668-116cc0892935');\n",
              "          const dataTable =\n",
              "            await google.colab.kernel.invokeFunction('convertToInteractive',\n",
              "                                                     [key], {});\n",
              "          if (!dataTable) return;\n",
              "\n",
              "          const docLinkHtml = 'Like what you see? Visit the ' +\n",
              "            '<a target=\"_blank\" href=https://colab.research.google.com/notebooks/data_table.ipynb>data table notebook</a>'\n",
              "            + ' to learn more about interactive tables.';\n",
              "          element.innerHTML = '';\n",
              "          dataTable['output_type'] = 'display_data';\n",
              "          await google.colab.output.renderOutput(dataTable, element);\n",
              "          const docLink = document.createElement('div');\n",
              "          docLink.innerHTML = docLinkHtml;\n",
              "          element.appendChild(docLink);\n",
              "        }\n",
              "      </script>\n",
              "    </div>\n",
              "  </div>\n",
              "  "
            ]
          },
          "metadata": {},
          "execution_count": 117
        }
      ],
      "source": [
        "import pandas\n",
        "d = {1: [12, 3], 2: [42, 13], 3: [35, 43], 4: [9, 65], 5: [2, 26]}\n",
        "df = pandas.DataFrame(data=d)\n",
        "df"
      ]
    },
    {
      "cell_type": "markdown",
      "source": [
        "H0 = {FX (t) = FY (t)}"
      ],
      "metadata": {
        "id": "pNZfbSVWz9vt"
      }
    },
    {
      "cell_type": "code",
      "source": [
        "m, n = df.sum(axis=1)\n",
        "m, n"
      ],
      "metadata": {
        "colab": {
          "base_uri": "https://localhost:8080/"
        },
        "id": "gkig0KNM39AH",
        "outputId": "b70c3df0-3df1-4627-da9b-ecc0dd6619e7"
      },
      "execution_count": 118,
      "outputs": [
        {
          "output_type": "execute_result",
          "data": {
            "text/plain": [
              "(100, 150)"
            ]
          },
          "metadata": {},
          "execution_count": 118
        }
      ]
    },
    {
      "cell_type": "code",
      "source": [
        "summa = 0\n",
        "for i in range(1, 6):\n",
        "  summa += (1/(sum(df[i])))*(df[i][0]/m - df[i][1]/n)**2"
      ],
      "metadata": {
        "id": "oM0JqT4y0cGe"
      },
      "execution_count": 119,
      "outputs": []
    },
    {
      "cell_type": "code",
      "source": [
        "summa_pearsona = m*n*summa\n",
        "summa_pearsona"
      ],
      "metadata": {
        "colab": {
          "base_uri": "https://localhost:8080/"
        },
        "id": "sL8x0Q4n0Rzm",
        "outputId": "37facc60-71b0-4285-daae-a1723c78f162"
      },
      "execution_count": 120,
      "outputs": [
        {
          "output_type": "execute_result",
          "data": {
            "text/plain": [
              "77.56378006378007"
            ]
          },
          "metadata": {},
          "execution_count": 120
        }
      ]
    },
    {
      "cell_type": "markdown",
      "source": [
        "r-1 = 4, alpha = 0.05"
      ],
      "metadata": {
        "id": "utWpXJkr3Gzi"
      }
    },
    {
      "cell_type": "code",
      "source": [
        "x_krit = 9.48773"
      ],
      "metadata": {
        "id": "U7NzOV-2218q"
      },
      "execution_count": 121,
      "outputs": []
    },
    {
      "cell_type": "code",
      "source": [
        "if summa_pearsona > x_krit:\n",
        "  print(\"Нулевая гипотеза отвергается\")\n",
        "else:\n",
        "  print(\"Нет оснований отвергнуть нулевую гипотезу\")"
      ],
      "metadata": {
        "colab": {
          "base_uri": "https://localhost:8080/"
        },
        "id": "BzAD8Fyf3bdq",
        "outputId": "b5aae622-d149-4f0d-c373-93eaa6bd822d"
      },
      "execution_count": 122,
      "outputs": [
        {
          "output_type": "stream",
          "name": "stdout",
          "text": [
            "Нулевая гипотеза отвергается\n"
          ]
        }
      ]
    },
    {
      "cell_type": "markdown",
      "source": [
        "###Task2\n",
        "По предложенной таблице* (выборкам) проверить гипотезу об однородности представленных выборок с помощью двухвыборочного критерия Пирсона."
      ],
      "metadata": {
        "id": "p1sNFuS_4lTb"
      }
    },
    {
      "cell_type": "code",
      "source": [
        "import xlrd\n",
        "numbers2 = []\n",
        "rb = xlrd.open_workbook('/content/drive/MyDrive/Colab Notebooks/terver/Практика 6 - данные для анализа.xls', formatting_info=True)\n",
        "sheet = rb.sheet_by_index(1)\n",
        "for rownum in range(sheet.nrows):\n",
        "  row = sheet.row_values(rownum)\n",
        "  for c_el in row:\n",
        "    numbers2.append(c_el)"
      ],
      "metadata": {
        "id": "PKqQcYhP4q5a"
      },
      "execution_count": 123,
      "outputs": []
    },
    {
      "cell_type": "code",
      "source": [
        "numbers2_x = numbers2[:100]\n",
        "numbers2_x"
      ],
      "metadata": {
        "colab": {
          "base_uri": "https://localhost:8080/"
        },
        "id": "x9s1Xc4-5kOg",
        "outputId": "d1eb72d5-9420-431b-ae4c-0fc9e30137ae"
      },
      "execution_count": 124,
      "outputs": [
        {
          "output_type": "execute_result",
          "data": {
            "text/plain": [
              "[0.3827306265915737,\n",
              " 0.15458519906281706,\n",
              " 0.003048409444728388,\n",
              " 0.6231130015498721,\n",
              " 1.6266235757426515,\n",
              " 8.521796324058586,\n",
              " 0.09130438996347162,\n",
              " 0.024106847757683257,\n",
              " 0.03714182517625516,\n",
              " 1.3649806597054894,\n",
              " 1.2507345369883631,\n",
              " 5.775434700228725,\n",
              " 7.147112482809527,\n",
              " 8.401781632521825,\n",
              " 1.0349077900764208,\n",
              " 0.011010655895782534,\n",
              " 1.3954831991912449,\n",
              " 1.8103942089566158,\n",
              " 1.105737016920102,\n",
              " 4.613917297678769,\n",
              " 7.715825696384258,\n",
              " 5.649756695130257,\n",
              " 2.1777897727514426,\n",
              " 0.02585422142596626,\n",
              " 2.618276775654172,\n",
              " 3.888538569390387,\n",
              " 9.012712976613663,\n",
              " 0.001646401346674025,\n",
              " 4.864271495127818,\n",
              " 0.2630410207598479,\n",
              " 0.33074755411228673,\n",
              " 9.445705379110517,\n",
              " 3.2109016219180746,\n",
              " 0.9623086390522257,\n",
              " 8.78428829970744,\n",
              " 4.688758204712497,\n",
              " 1.5544531897672007,\n",
              " 1.1443877244715226,\n",
              " 5.8213144379818536,\n",
              " 5.654804265325569,\n",
              " 5.816777128524303,\n",
              " 6.361075311275023,\n",
              " 5.477977458925042,\n",
              " 3.0406730554557715,\n",
              " 2.261111064960674,\n",
              " 9.801656427848298,\n",
              " 0.14767263909511555,\n",
              " 0.9031382278311857,\n",
              " 4.632473679146882,\n",
              " 2.5097133434144703,\n",
              " 0.05954452013123508,\n",
              " 0.541447751010761,\n",
              " 0.09919636553349821,\n",
              " 9.745247220785018,\n",
              " 0.423560306582922,\n",
              " 0.0029050365339816924,\n",
              " 5.624246902502229,\n",
              " 1.229955233495585,\n",
              " 2.355482647688001,\n",
              " 7.23141801581391,\n",
              " 2.366325331650742,\n",
              " 3.083115145438634,\n",
              " 2.7155334407336107,\n",
              " 9.51724433761973,\n",
              " 3.4168792584055763,\n",
              " 4.664281766076959,\n",
              " 3.1394143909673438,\n",
              " 9.744229154624321,\n",
              " 5.2458919153230275,\n",
              " 3.3053602797428168,\n",
              " 1.7324501246811348,\n",
              " 2.8393750740396206,\n",
              " 2.049457489991798,\n",
              " 2.5184736279089788,\n",
              " 0.5246559651925689,\n",
              " 8.093275295143467,\n",
              " 0.09819204284597693,\n",
              " 0.5166043507055115,\n",
              " 7.195291112393056,\n",
              " 6.642746622215921,\n",
              " 1.028909116264482,\n",
              " 7.014381068216892,\n",
              " 7.035392052162933,\n",
              " 0.00020943835742633527,\n",
              " 0.2938402360179762,\n",
              " 1.0384872953523525,\n",
              " 0.40681333457428137,\n",
              " 6.97824466130862,\n",
              " 8.950365073621304,\n",
              " 2.033645426626032,\n",
              " 0.25650954292456596,\n",
              " 0.6345258023718554,\n",
              " 6.043377427199493,\n",
              " 5.005066686007159,\n",
              " 2.0931423339661075,\n",
              " 0.10199773349032314,\n",
              " 1.1886753372589314,\n",
              " 0.17874469601380166,\n",
              " 0.9232704525043735,\n",
              " 6.131352101336719]"
            ]
          },
          "metadata": {},
          "execution_count": 124
        }
      ]
    },
    {
      "cell_type": "code",
      "source": [
        "numbers2_y = numbers2[120:]\n",
        "numbers2_y"
      ],
      "metadata": {
        "colab": {
          "base_uri": "https://localhost:8080/"
        },
        "id": "bl5JtLIi6O2E",
        "outputId": "57a00b77-3011-4ecf-ff26-56fbcb410496"
      },
      "execution_count": 125,
      "outputs": [
        {
          "output_type": "execute_result",
          "data": {
            "text/plain": [
              "[4.947031345848318,\n",
              " 8.894401186554807,\n",
              " 0.5835719023870967,\n",
              " 3.4176264273070354,\n",
              " 7.623346823801277,\n",
              " 1.4970481318071993,\n",
              " 4.078478277699636,\n",
              " 8.893728013023425,\n",
              " 7.26803564132693,\n",
              " 4.142662668644866,\n",
              " 1.9205864924123117,\n",
              " 8.36937119410225,\n",
              " 1.6188727354205101,\n",
              " 0.43802106835117427,\n",
              " 3.467177710256254,\n",
              " 9.622302273558832,\n",
              " 4.905802193543268,\n",
              " 5.262031150927543,\n",
              " 1.176753206299963,\n",
              " 5.6200482169267225,\n",
              " 0.3520659111802882,\n",
              " 8.2918470899216,\n",
              " 6.143656530316904,\n",
              " 0.30649875975925056,\n",
              " 6.087905033087301,\n",
              " 7.909805524826405,\n",
              " 6.289061364068115,\n",
              " 6.6709944296886325,\n",
              " 0.8679782206915343,\n",
              " 4.722123181483045,\n",
              " 2.5606879133718707,\n",
              " 2.150583956210379,\n",
              " 1.7249426815501012,\n",
              " 2.123441511847064,\n",
              " 3.209461678181962,\n",
              " 7.71396382372817,\n",
              " 6.2433146525099215,\n",
              " 3.988622659504931,\n",
              " 0.4508659107588131,\n",
              " 6.381752130789523,\n",
              " 5.6572191166344945,\n",
              " 6.565637077993092,\n",
              " 4.082345711449838,\n",
              " 5.790446598012222,\n",
              " 5.099656368600702,\n",
              " 0.21368911786907252,\n",
              " 4.726261152591757,\n",
              " 2.7073112808803868,\n",
              " 6.8457441325426425,\n",
              " 9.94066171357902,\n",
              " 2.310944314051353,\n",
              " 3.403505110899796,\n",
              " 8.837389109930317,\n",
              " 7.3726776012154085,\n",
              " 6.275113199933021,\n",
              " 2.492567563565987,\n",
              " 3.079539085950811,\n",
              " 6.71188262275137,\n",
              " 0.8333754297671736,\n",
              " 9.743777385369935,\n",
              " 2.936147096003141,\n",
              " 8.197577009000966,\n",
              " 9.091011449727823,\n",
              " 1.1253582901853632,\n",
              " 1.6562912181756717,\n",
              " 7.174158980905948,\n",
              " 6.070127752039697,\n",
              " 5.361701056615665,\n",
              " 6.512892989261113,\n",
              " 9.306033132572178,\n",
              " 0.43405510080318566,\n",
              " 2.0199218877584277,\n",
              " 5.143914317019224,\n",
              " 2.194412646325763,\n",
              " 7.863093934323406,\n",
              " 5.136783282251585,\n",
              " 1.9626315760695845,\n",
              " 0.7468953750305407,\n",
              " 5.64809202966849,\n",
              " 3.2214079259626605]"
            ]
          },
          "metadata": {},
          "execution_count": 125
        }
      ]
    },
    {
      "cell_type": "code",
      "source": [
        "c2_min_x = min(numbers2_x)\n",
        "c2_max_x = max(numbers2_x)\n",
        "c2_min_y = min(numbers2_y)\n",
        "c2_max_y = max(numbers2_y)\n",
        "print( c2_min_x, c2_max_x, c2_min_y, c2_max_y)"
      ],
      "metadata": {
        "colab": {
          "base_uri": "https://localhost:8080/"
        },
        "id": "Y33pAC2z5S9Z",
        "outputId": "ad76545e-8514-48b9-8008-2d32d5d87c9b"
      },
      "execution_count": 126,
      "outputs": [
        {
          "output_type": "stream",
          "name": "stdout",
          "text": [
            "0.00020943835742633527 9.801656427848298 0.21368911786907252 9.94066171357902\n"
          ]
        }
      ]
    },
    {
      "cell_type": "markdown",
      "source": [
        "Интервалы [0, 3), [3, 5), [5, 7), [7, 10]"
      ],
      "metadata": {
        "id": "RQd1hUyd66G1"
      }
    },
    {
      "cell_type": "code",
      "source": [
        "count_for_delta2 = {'delta1': [len([item for item in numbers2_x if item >=0 and item < 3]), len([item for item in numbers2_y if item >=0 and item < 3])], \n",
        "    'delta2': [len([item for item in numbers2_x if item >=3 and item < 5]), len([item for item in numbers2_y if item >=3 and item < 5])],\n",
        "    'delta3': [len([item for item in numbers2_x if item >=5 and item < 7]), len([item for item in numbers2_y if item >=5 and item < 7])],\n",
        "    'delta4': [len([item for item in numbers2_x if item >=7 and item < 10]), len([item for item in numbers2_y if item >=7 and item < 10])]\n",
        "}\n",
        "df2 = pandas.DataFrame(data=count_for_delta2)\n",
        "df2"
      ],
      "metadata": {
        "colab": {
          "base_uri": "https://localhost:8080/",
          "height": 112
        },
        "id": "1sxJOj0X61z9",
        "outputId": "53362739-3168-45bc-a325-7078d73fcb00"
      },
      "execution_count": 127,
      "outputs": [
        {
          "output_type": "execute_result",
          "data": {
            "text/plain": [
              "   delta1  delta2  delta3  delta4\n",
              "0      57      12      14      17\n",
              "1      27      14      21      18"
            ],
            "text/html": [
              "\n",
              "  <div id=\"df-91f8e5ca-8ae5-4f51-af3c-bba80ffc000d\">\n",
              "    <div class=\"colab-df-container\">\n",
              "      <div>\n",
              "<style scoped>\n",
              "    .dataframe tbody tr th:only-of-type {\n",
              "        vertical-align: middle;\n",
              "    }\n",
              "\n",
              "    .dataframe tbody tr th {\n",
              "        vertical-align: top;\n",
              "    }\n",
              "\n",
              "    .dataframe thead th {\n",
              "        text-align: right;\n",
              "    }\n",
              "</style>\n",
              "<table border=\"1\" class=\"dataframe\">\n",
              "  <thead>\n",
              "    <tr style=\"text-align: right;\">\n",
              "      <th></th>\n",
              "      <th>delta1</th>\n",
              "      <th>delta2</th>\n",
              "      <th>delta3</th>\n",
              "      <th>delta4</th>\n",
              "    </tr>\n",
              "  </thead>\n",
              "  <tbody>\n",
              "    <tr>\n",
              "      <th>0</th>\n",
              "      <td>57</td>\n",
              "      <td>12</td>\n",
              "      <td>14</td>\n",
              "      <td>17</td>\n",
              "    </tr>\n",
              "    <tr>\n",
              "      <th>1</th>\n",
              "      <td>27</td>\n",
              "      <td>14</td>\n",
              "      <td>21</td>\n",
              "      <td>18</td>\n",
              "    </tr>\n",
              "  </tbody>\n",
              "</table>\n",
              "</div>\n",
              "      <button class=\"colab-df-convert\" onclick=\"convertToInteractive('df-91f8e5ca-8ae5-4f51-af3c-bba80ffc000d')\"\n",
              "              title=\"Convert this dataframe to an interactive table.\"\n",
              "              style=\"display:none;\">\n",
              "        \n",
              "  <svg xmlns=\"http://www.w3.org/2000/svg\" height=\"24px\"viewBox=\"0 0 24 24\"\n",
              "       width=\"24px\">\n",
              "    <path d=\"M0 0h24v24H0V0z\" fill=\"none\"/>\n",
              "    <path d=\"M18.56 5.44l.94 2.06.94-2.06 2.06-.94-2.06-.94-.94-2.06-.94 2.06-2.06.94zm-11 1L8.5 8.5l.94-2.06 2.06-.94-2.06-.94L8.5 2.5l-.94 2.06-2.06.94zm10 10l.94 2.06.94-2.06 2.06-.94-2.06-.94-.94-2.06-.94 2.06-2.06.94z\"/><path d=\"M17.41 7.96l-1.37-1.37c-.4-.4-.92-.59-1.43-.59-.52 0-1.04.2-1.43.59L10.3 9.45l-7.72 7.72c-.78.78-.78 2.05 0 2.83L4 21.41c.39.39.9.59 1.41.59.51 0 1.02-.2 1.41-.59l7.78-7.78 2.81-2.81c.8-.78.8-2.07 0-2.86zM5.41 20L4 18.59l7.72-7.72 1.47 1.35L5.41 20z\"/>\n",
              "  </svg>\n",
              "      </button>\n",
              "      \n",
              "  <style>\n",
              "    .colab-df-container {\n",
              "      display:flex;\n",
              "      flex-wrap:wrap;\n",
              "      gap: 12px;\n",
              "    }\n",
              "\n",
              "    .colab-df-convert {\n",
              "      background-color: #E8F0FE;\n",
              "      border: none;\n",
              "      border-radius: 50%;\n",
              "      cursor: pointer;\n",
              "      display: none;\n",
              "      fill: #1967D2;\n",
              "      height: 32px;\n",
              "      padding: 0 0 0 0;\n",
              "      width: 32px;\n",
              "    }\n",
              "\n",
              "    .colab-df-convert:hover {\n",
              "      background-color: #E2EBFA;\n",
              "      box-shadow: 0px 1px 2px rgba(60, 64, 67, 0.3), 0px 1px 3px 1px rgba(60, 64, 67, 0.15);\n",
              "      fill: #174EA6;\n",
              "    }\n",
              "\n",
              "    [theme=dark] .colab-df-convert {\n",
              "      background-color: #3B4455;\n",
              "      fill: #D2E3FC;\n",
              "    }\n",
              "\n",
              "    [theme=dark] .colab-df-convert:hover {\n",
              "      background-color: #434B5C;\n",
              "      box-shadow: 0px 1px 3px 1px rgba(0, 0, 0, 0.15);\n",
              "      filter: drop-shadow(0px 1px 2px rgba(0, 0, 0, 0.3));\n",
              "      fill: #FFFFFF;\n",
              "    }\n",
              "  </style>\n",
              "\n",
              "      <script>\n",
              "        const buttonEl =\n",
              "          document.querySelector('#df-91f8e5ca-8ae5-4f51-af3c-bba80ffc000d button.colab-df-convert');\n",
              "        buttonEl.style.display =\n",
              "          google.colab.kernel.accessAllowed ? 'block' : 'none';\n",
              "\n",
              "        async function convertToInteractive(key) {\n",
              "          const element = document.querySelector('#df-91f8e5ca-8ae5-4f51-af3c-bba80ffc000d');\n",
              "          const dataTable =\n",
              "            await google.colab.kernel.invokeFunction('convertToInteractive',\n",
              "                                                     [key], {});\n",
              "          if (!dataTable) return;\n",
              "\n",
              "          const docLinkHtml = 'Like what you see? Visit the ' +\n",
              "            '<a target=\"_blank\" href=https://colab.research.google.com/notebooks/data_table.ipynb>data table notebook</a>'\n",
              "            + ' to learn more about interactive tables.';\n",
              "          element.innerHTML = '';\n",
              "          dataTable['output_type'] = 'display_data';\n",
              "          await google.colab.output.renderOutput(dataTable, element);\n",
              "          const docLink = document.createElement('div');\n",
              "          docLink.innerHTML = docLinkHtml;\n",
              "          element.appendChild(docLink);\n",
              "        }\n",
              "      </script>\n",
              "    </div>\n",
              "  </div>\n",
              "  "
            ]
          },
          "metadata": {},
          "execution_count": 127
        }
      ]
    },
    {
      "cell_type": "code",
      "source": [
        "m2, n2 = df2.sum(axis=1)\n",
        "m2, n2"
      ],
      "metadata": {
        "colab": {
          "base_uri": "https://localhost:8080/"
        },
        "id": "v8MwYOAH8NqI",
        "outputId": "85c99d44-444b-4375-c23e-2e03fce8663d"
      },
      "execution_count": 128,
      "outputs": [
        {
          "output_type": "execute_result",
          "data": {
            "text/plain": [
              "(100, 80)"
            ]
          },
          "metadata": {},
          "execution_count": 128
        }
      ]
    },
    {
      "cell_type": "code",
      "source": [
        "summa2 = 0\n",
        "for i in range(1, 5):\n",
        "  summa2 += (1/(sum(df2['delta' + str(i)])))*(df2['delta' + str(i)][0]/m2 - df2['delta' + str(i)][1]/n2)**2\n",
        "summa_pearsona2 = m2*n2*summa2\n",
        "summa_pearsona2"
      ],
      "metadata": {
        "colab": {
          "base_uri": "https://localhost:8080/"
        },
        "id": "Zda8f-nk8OEz",
        "outputId": "6dcf699f-5d7b-45c6-a3ca-22b62b56f532"
      },
      "execution_count": 129,
      "outputs": [
        {
          "output_type": "execute_result",
          "data": {
            "text/plain": [
              "10.200412087912085"
            ]
          },
          "metadata": {},
          "execution_count": 129
        }
      ]
    },
    {
      "cell_type": "code",
      "source": [
        "x_krit2 = 7.81473 \n",
        "if summa_pearsona2 > x_krit2:\n",
        "  print(\"Нулевая гипотеза отвергается\")\n",
        "else:\n",
        "  print(\"Нет оснований отвергнуть нулевую гипотезу\")"
      ],
      "metadata": {
        "colab": {
          "base_uri": "https://localhost:8080/"
        },
        "id": "lXsFlCy-9ASR",
        "outputId": "1c793a3b-a8dd-401c-b153-693891be4a19"
      },
      "execution_count": 130,
      "outputs": [
        {
          "output_type": "stream",
          "name": "stdout",
          "text": [
            "Нулевая гипотеза отвергается\n"
          ]
        }
      ]
    },
    {
      "cell_type": "markdown",
      "source": [
        "###Task3\n",
        "Группу школьников случайно разбили на две части, после чего первая подгруппа\n",
        "проходила курсы по сдаче единого экзамена по ОБЖ. В таблице* представлены\n",
        "итоговые результаты экзамена для этих двух групп. Сформулируйте статистическую гипотезу и оцените эффективность тренинга.\n"
      ],
      "metadata": {
        "id": "jd9V0ccO9Tht"
      }
    },
    {
      "cell_type": "code",
      "source": [
        "numbers3_x = []\n",
        "numbers3_y = []\n",
        "rb = xlrd.open_workbook('/content/drive/MyDrive/Colab Notebooks/terver/Практика 6 - данные для анализа.xls', formatting_info=True)\n",
        "sheet = rb.sheet_by_index(2)\n",
        "for rownum in range(sheet.nrows):\n",
        "  row = sheet.row_values(rownum)\n",
        "  if (rownum!=0):\n",
        "    numbers3_x.append(row[0])\n",
        "    numbers3_y.append(row[1])\n",
        "numbers3_x, numbers3_y"
      ],
      "metadata": {
        "colab": {
          "base_uri": "https://localhost:8080/"
        },
        "id": "2ROHHvLP9ZG6",
        "outputId": "964ff76e-5f31-4ad3-ed9b-0e7e2bba16f8"
      },
      "execution_count": 131,
      "outputs": [
        {
          "output_type": "execute_result",
          "data": {
            "text/plain": [
              "([54.0,\n",
              "  76.0,\n",
              "  34.0,\n",
              "  98.0,\n",
              "  80.0,\n",
              "  84.0,\n",
              "  54.0,\n",
              "  54.0,\n",
              "  76.0,\n",
              "  76.0,\n",
              "  82.0,\n",
              "  80.0,\n",
              "  80.0,\n",
              "  '',\n",
              "  '',\n",
              "  '',\n",
              "  ''],\n",
              " [58.0,\n",
              "  58.0,\n",
              "  58.0,\n",
              "  92.0,\n",
              "  92.0,\n",
              "  70.0,\n",
              "  38.0,\n",
              "  44.0,\n",
              "  48.0,\n",
              "  52.0,\n",
              "  72.0,\n",
              "  72.0,\n",
              "  72.0,\n",
              "  50.0,\n",
              "  54.0,\n",
              "  54.0,\n",
              "  95.0])"
            ]
          },
          "metadata": {},
          "execution_count": 131
        }
      ]
    },
    {
      "cell_type": "markdown",
      "source": [
        "H0 = {FX (t) = FY (t)}"
      ],
      "metadata": {
        "id": "0Tr2Qg6YDUq1"
      }
    },
    {
      "cell_type": "code",
      "source": [
        "count_for_delta3 = { \n",
        "    'delta1': [len([item for item in numbers3_x if item != '' and item < 50]), len([item for item in numbers3_y if item != '' and item < 50])],\n",
        "    'delta2': [len([item for item in numbers3_x if item != '' and item >=50 and item < 70]), len([item for item in numbers3_y if item != '' and item >=50 and item < 70])],\n",
        "    'delta3': [len([item for item in numbers3_x if item != '' and item >=70 and item < 100]), len([item for item in numbers3_y if item != '' and item >=70 and item < 100])]\n",
        "}\n",
        "df3 = pandas.DataFrame(data=count_for_delta3)\n",
        "df3"
      ],
      "metadata": {
        "colab": {
          "base_uri": "https://localhost:8080/",
          "height": 112
        },
        "id": "RAMQ1Wac-G8k",
        "outputId": "442d4480-0520-4d3e-dbfc-93c49a8023ef"
      },
      "execution_count": 132,
      "outputs": [
        {
          "output_type": "execute_result",
          "data": {
            "text/plain": [
              "   delta1  delta2  delta3\n",
              "0       1       3       9\n",
              "1       3       7       7"
            ],
            "text/html": [
              "\n",
              "  <div id=\"df-ff25fd2a-d7a4-459e-a5c1-3c6ce38f8cd5\">\n",
              "    <div class=\"colab-df-container\">\n",
              "      <div>\n",
              "<style scoped>\n",
              "    .dataframe tbody tr th:only-of-type {\n",
              "        vertical-align: middle;\n",
              "    }\n",
              "\n",
              "    .dataframe tbody tr th {\n",
              "        vertical-align: top;\n",
              "    }\n",
              "\n",
              "    .dataframe thead th {\n",
              "        text-align: right;\n",
              "    }\n",
              "</style>\n",
              "<table border=\"1\" class=\"dataframe\">\n",
              "  <thead>\n",
              "    <tr style=\"text-align: right;\">\n",
              "      <th></th>\n",
              "      <th>delta1</th>\n",
              "      <th>delta2</th>\n",
              "      <th>delta3</th>\n",
              "    </tr>\n",
              "  </thead>\n",
              "  <tbody>\n",
              "    <tr>\n",
              "      <th>0</th>\n",
              "      <td>1</td>\n",
              "      <td>3</td>\n",
              "      <td>9</td>\n",
              "    </tr>\n",
              "    <tr>\n",
              "      <th>1</th>\n",
              "      <td>3</td>\n",
              "      <td>7</td>\n",
              "      <td>7</td>\n",
              "    </tr>\n",
              "  </tbody>\n",
              "</table>\n",
              "</div>\n",
              "      <button class=\"colab-df-convert\" onclick=\"convertToInteractive('df-ff25fd2a-d7a4-459e-a5c1-3c6ce38f8cd5')\"\n",
              "              title=\"Convert this dataframe to an interactive table.\"\n",
              "              style=\"display:none;\">\n",
              "        \n",
              "  <svg xmlns=\"http://www.w3.org/2000/svg\" height=\"24px\"viewBox=\"0 0 24 24\"\n",
              "       width=\"24px\">\n",
              "    <path d=\"M0 0h24v24H0V0z\" fill=\"none\"/>\n",
              "    <path d=\"M18.56 5.44l.94 2.06.94-2.06 2.06-.94-2.06-.94-.94-2.06-.94 2.06-2.06.94zm-11 1L8.5 8.5l.94-2.06 2.06-.94-2.06-.94L8.5 2.5l-.94 2.06-2.06.94zm10 10l.94 2.06.94-2.06 2.06-.94-2.06-.94-.94-2.06-.94 2.06-2.06.94z\"/><path d=\"M17.41 7.96l-1.37-1.37c-.4-.4-.92-.59-1.43-.59-.52 0-1.04.2-1.43.59L10.3 9.45l-7.72 7.72c-.78.78-.78 2.05 0 2.83L4 21.41c.39.39.9.59 1.41.59.51 0 1.02-.2 1.41-.59l7.78-7.78 2.81-2.81c.8-.78.8-2.07 0-2.86zM5.41 20L4 18.59l7.72-7.72 1.47 1.35L5.41 20z\"/>\n",
              "  </svg>\n",
              "      </button>\n",
              "      \n",
              "  <style>\n",
              "    .colab-df-container {\n",
              "      display:flex;\n",
              "      flex-wrap:wrap;\n",
              "      gap: 12px;\n",
              "    }\n",
              "\n",
              "    .colab-df-convert {\n",
              "      background-color: #E8F0FE;\n",
              "      border: none;\n",
              "      border-radius: 50%;\n",
              "      cursor: pointer;\n",
              "      display: none;\n",
              "      fill: #1967D2;\n",
              "      height: 32px;\n",
              "      padding: 0 0 0 0;\n",
              "      width: 32px;\n",
              "    }\n",
              "\n",
              "    .colab-df-convert:hover {\n",
              "      background-color: #E2EBFA;\n",
              "      box-shadow: 0px 1px 2px rgba(60, 64, 67, 0.3), 0px 1px 3px 1px rgba(60, 64, 67, 0.15);\n",
              "      fill: #174EA6;\n",
              "    }\n",
              "\n",
              "    [theme=dark] .colab-df-convert {\n",
              "      background-color: #3B4455;\n",
              "      fill: #D2E3FC;\n",
              "    }\n",
              "\n",
              "    [theme=dark] .colab-df-convert:hover {\n",
              "      background-color: #434B5C;\n",
              "      box-shadow: 0px 1px 3px 1px rgba(0, 0, 0, 0.15);\n",
              "      filter: drop-shadow(0px 1px 2px rgba(0, 0, 0, 0.3));\n",
              "      fill: #FFFFFF;\n",
              "    }\n",
              "  </style>\n",
              "\n",
              "      <script>\n",
              "        const buttonEl =\n",
              "          document.querySelector('#df-ff25fd2a-d7a4-459e-a5c1-3c6ce38f8cd5 button.colab-df-convert');\n",
              "        buttonEl.style.display =\n",
              "          google.colab.kernel.accessAllowed ? 'block' : 'none';\n",
              "\n",
              "        async function convertToInteractive(key) {\n",
              "          const element = document.querySelector('#df-ff25fd2a-d7a4-459e-a5c1-3c6ce38f8cd5');\n",
              "          const dataTable =\n",
              "            await google.colab.kernel.invokeFunction('convertToInteractive',\n",
              "                                                     [key], {});\n",
              "          if (!dataTable) return;\n",
              "\n",
              "          const docLinkHtml = 'Like what you see? Visit the ' +\n",
              "            '<a target=\"_blank\" href=https://colab.research.google.com/notebooks/data_table.ipynb>data table notebook</a>'\n",
              "            + ' to learn more about interactive tables.';\n",
              "          element.innerHTML = '';\n",
              "          dataTable['output_type'] = 'display_data';\n",
              "          await google.colab.output.renderOutput(dataTable, element);\n",
              "          const docLink = document.createElement('div');\n",
              "          docLink.innerHTML = docLinkHtml;\n",
              "          element.appendChild(docLink);\n",
              "        }\n",
              "      </script>\n",
              "    </div>\n",
              "  </div>\n",
              "  "
            ]
          },
          "metadata": {},
          "execution_count": 132
        }
      ]
    },
    {
      "cell_type": "code",
      "source": [
        "m3, n3 = df3.sum(axis=1)\n",
        "m3, n3"
      ],
      "metadata": {
        "colab": {
          "base_uri": "https://localhost:8080/"
        },
        "id": "xe12iGuH_Pld",
        "outputId": "2f30cbe3-3f61-445c-9657-686e824a6305"
      },
      "execution_count": 133,
      "outputs": [
        {
          "output_type": "execute_result",
          "data": {
            "text/plain": [
              "(13, 17)"
            ]
          },
          "metadata": {},
          "execution_count": 133
        }
      ]
    },
    {
      "cell_type": "code",
      "source": [
        "summa3 = 0\n",
        "for i in range(1, 4):\n",
        "  summa3 += (1/(sum(df3['delta' + str(i)])))*(df3['delta' + str(i)][0]/m3 - df3['delta' + str(i)][1]/n3)**2\n",
        "summa_pearsona3 = m3*n3*summa3\n",
        "summa_pearsona3"
      ],
      "metadata": {
        "colab": {
          "base_uri": "https://localhost:8080/"
        },
        "id": "I-oPWblJA2LZ",
        "outputId": "e351d446-21ea-4e98-c485-6bd6afef259c"
      },
      "execution_count": 134,
      "outputs": [
        {
          "output_type": "execute_result",
          "data": {
            "text/plain": [
              "2.358597285067873"
            ]
          },
          "metadata": {},
          "execution_count": 134
        }
      ]
    },
    {
      "cell_type": "code",
      "source": [
        "print(\"для альфы = 0.05\")\n",
        "x_krit3_005 = 5.99146 \n",
        "if summa_pearsona3 > x_krit3_005:\n",
        "  print(\"Нулевая гипотеза отвергается\")\n",
        "else:\n",
        "  print(\"Нет оснований отвергнуть нулевую гипотезу\")\n",
        "print(\"для альфы = 0.01\")\n",
        "x_krit3_001 = 9.21034\n",
        "if summa_pearsona3 > x_krit3_001:\n",
        "  print(\"Нулевая гипотеза отвергается\")\n",
        "else:\n",
        "  print(\"Нет оснований отвергнуть нулевую гипотезу\")"
      ],
      "metadata": {
        "colab": {
          "base_uri": "https://localhost:8080/"
        },
        "id": "OYgikWoOBCDA",
        "outputId": "9589f0cb-67f3-4533-d401-c8af3611b6ec"
      },
      "execution_count": 135,
      "outputs": [
        {
          "output_type": "stream",
          "name": "stdout",
          "text": [
            "для альфы = 0.05\n",
            "Нет оснований отвергнуть нулевую гипотезу\n",
            "для альфы = 0.01\n",
            "Нет оснований отвергнуть нулевую гипотезу\n"
          ]
        }
      ]
    },
    {
      "cell_type": "markdown",
      "source": [
        "Вывод: прохождение курса не повлияло на сдачу экзамена. Тренинг не эффектифен"
      ],
      "metadata": {
        "id": "yqABBGl6C9GC"
      }
    }
  ]
}